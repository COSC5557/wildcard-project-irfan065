{
  "nbformat": 4,
  "nbformat_minor": 0,
  "metadata": {
    "colab": {
      "provenance": []
    },
    "kernelspec": {
      "name": "python3",
      "display_name": "Python 3"
    },
    "language_info": {
      "name": "python"
    }
  },
  "cells": [
    {
      "cell_type": "code",
      "source": [
        "# Define which parameter to predict\n",
        "user_input = int(input(\"Enter a nember(RH:5, GSP:4, SH:3, MAT:2, ENTHAL:1):\"))"
      ],
      "metadata": {
        "colab": {
          "base_uri": "https://localhost:8080/"
        },
        "id": "0a68jjGw3OF6",
        "outputId": "2b68354f-8e4c-48ef-b2ae-869cd193e113"
      },
      "execution_count": 2,
      "outputs": [
        {
          "name": "stdout",
          "output_type": "stream",
          "text": [
            "Enter a nember(RH:5, GSP:4, SH:3, MAT:2, ENTHAL:1):2\n"
          ]
        }
      ]
    },
    {
      "cell_type": "code",
      "source": [
        "import pandas as pd\n",
        "from sklearn.model_selection import train_test_split, cross_val_score, GridSearchCV, KFold\n",
        "from sklearn.ensemble import RandomForestRegressor\n",
        "from sklearn.svm import SVR\n",
        "from sklearn.linear_model import LinearRegression\n",
        "from sklearn.tree import DecisionTreeRegressor\n",
        "from sklearn.exceptions import FitFailedWarning\n",
        "from sklearn.metrics import r2_score\n",
        "import warnings\n",
        "\n",
        "\n",
        "data = pd.read_csv('data.csv')\n",
        "X = data.iloc[:, :-5].values\n",
        "y = data.iloc[:, -user_input].values\n",
        "X_train, X_test, y_train, y_test = train_test_split(X, y, test_size=0.20, random_state=0)\n",
        "\n",
        "\n",
        "models = [\n",
        "    ('Random Forest', RandomForestRegressor()),\n",
        "    ('SVR', SVR()),\n",
        "    ('Linear Regression', LinearRegression()),\n",
        "    ('Decision Tree', DecisionTreeRegressor())\n",
        "]\n",
        "\n",
        "\n",
        "results = {}\n",
        "final_scores = {}\n",
        "for name, model in models:\n",
        "    param_grid = None\n",
        "    if name == 'SVR':\n",
        "        param_grid = {\n",
        "            'C': [0.1, 0.8, 2, 10],\n",
        "            'kernel': ['linear', 'rbf', 'poly', 'sigmoid']\n",
        "        }\n",
        "    elif name == 'Random Forest':\n",
        "        param_grid = {\n",
        "            'n_estimators': [50, 150, 100, 200],\n",
        "            'max_depth': [None, 10, 18, 30],\n",
        "            'min_samples_split': [2, 5, 10],\n",
        "            'min_samples_leaf': [1, 2, 5]\n",
        "        }\n",
        "    elif name == 'Linear Regression':\n",
        "        param_grid = {\n",
        "            'fit_intercept': [True, False]\n",
        "        }\n",
        "    elif name == 'Decision Tree':\n",
        "        param_grid = {\n",
        "            'max_depth': [None, 10, 20, 30, 50, 100],\n",
        "            'min_samples_split': [2, 5, 10, 20],\n",
        "            'min_samples_leaf': [1, 2, 4, 7]\n",
        "        }\n",
        "\n",
        "    inner_cv = KFold(n_splits=5, shuffle=True, random_state=42)\n",
        "    outer_cv = KFold(n_splits=5, shuffle=True, random_state=42)\n",
        "\n",
        "    grid_search = GridSearchCV(model, param_grid=param_grid, cv=inner_cv, scoring='r2', n_jobs=-1)\n",
        "    cv_scores = cross_val_score(grid_search, X_train, y_train, cv=outer_cv, scoring='r2')\n",
        "\n",
        "    best_model = grid_search.fit(X_train, y_train).best_estimator_\n",
        "    y_pred = best_model.predict(X_test)\n",
        "    r2 = r2_score(y_test, y_pred)\n",
        "\n",
        "    results[name] = cv_scores\n",
        "    final_scores[name] = r2\n",
        "\n",
        "\n",
        "print(\"Nested Cross-Validation Results:\")\n",
        "for name, scores in results.items():\n",
        "    print(f\"{name} CV R-squared: {scores.mean():.4f} (+/- {scores.std() * 2:.4f})\")\n",
        "\n",
        "print(\"\\nFinal Model Evaluation:\")\n",
        "for name, r2 in final_scores.items():\n",
        "    print(f\"{name} Test R-squared: {r2:.4f}\")\n",
        "\n",
        "best_model = max(final_scores, key=final_scores.get)\n",
        "print(\"\\nBest Model:\", best_model, final_scores[best_model])\n"
      ],
      "metadata": {
        "colab": {
          "base_uri": "https://localhost:8080/"
        },
        "id": "Bij1xFV6HgCD",
        "outputId": "d445f48f-6483-46b3-c4bf-13b9b87deb15"
      },
      "execution_count": 4,
      "outputs": [
        {
          "output_type": "stream",
          "name": "stdout",
          "text": [
            "Nested Cross-Validation Results:\n",
            "Random Forest CV R-squared: 0.8908 (+/- 0.0302)\n",
            "SVR CV R-squared: 0.9056 (+/- 0.0401)\n",
            "Linear Regression CV R-squared: 0.8532 (+/- 0.0528)\n",
            "Decision Tree CV R-squared: 0.7845 (+/- 0.0661)\n",
            "\n",
            "Final Model Evaluation:\n",
            "Random Forest Test R-squared: 0.9199\n",
            "SVR Test R-squared: 0.9373\n",
            "Linear Regression Test R-squared: 0.9311\n",
            "Decision Tree Test R-squared: 0.7096\n",
            "\n",
            "Best Model: SVR 0.937272606546334\n"
          ]
        }
      ]
    }
  ]
}