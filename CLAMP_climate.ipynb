{
  "nbformat": 4,
  "nbformat_minor": 0,
  "metadata": {
    "colab": {
      "provenance": [],
      "toc_visible": true
    },
    "kernelspec": {
      "name": "python3",
      "display_name": "Python 3"
    },
    "language_info": {
      "name": "python"
    }
  },
  "cells": [
    {
      "cell_type": "code",
      "source": [
        "# Define which parameter to predict\n",
        "user_input = int(input(\"Enter a nember(RH:5, GSP:4, SH:3, MAT:2, ENTHAL:1):\"))"
      ],
      "metadata": {
        "colab": {
          "base_uri": "https://localhost:8080/"
        },
        "id": "0a68jjGw3OF6",
        "outputId": "31239c24-6016-4ad9-e11b-e29c2dfba431"
      },
      "execution_count": null,
      "outputs": [
        {
          "name": "stdout",
          "output_type": "stream",
          "text": [
            "Enter a nember(RH:5, GSP:4, SH:3, MAT:2, ENTHAL:1):1\n"
          ]
        }
      ]
    },
    {
      "cell_type": "code",
      "execution_count": null,
      "metadata": {
        "colab": {
          "base_uri": "https://localhost:8080/"
        },
        "id": "3dnDzlZSld9i",
        "outputId": "e9085031-ed22-4f9c-f83c-5fdb8f553d1f"
      },
      "outputs": [
        {
          "output_type": "stream",
          "name": "stdout",
          "text": [
            "Perfomance Before HPO\n",
            "Random Forest R-squared: 0.8197090565855836\n",
            "SVR R-squared: 0.8769946021259977\n",
            "Linear Regression R-squared: 0.8660118231585157\n",
            "Decision Tree R-squared: 0.6988582200657647\n",
            "Best Model: SVR 0.8769946021259977\n",
            "Perfomance After HPO\n",
            "Random Forest R-squared: 0.8215238890035359\n",
            "SVR R-squared: 0.8982544985260306\n",
            "Linear Regression R-squared: 0.8660118231585157\n",
            "Decision Tree R-squared: 0.5498436434490469\n",
            "Best Model: SVR 0.8982544985260306\n"
          ]
        }
      ],
      "source": [
        "# Import necessary libraries\n",
        "import pandas as pd\n",
        "from sklearn.model_selection import train_test_split, cross_val_score\n",
        "from sklearn.ensemble import RandomForestRegressor\n",
        "from sklearn.svm import SVR\n",
        "from sklearn.linear_model import LinearRegression\n",
        "from sklearn.tree import DecisionTreeRegressor\n",
        "from scipy import stats\n",
        "import warnings\n",
        "from sklearn.model_selection import GridSearchCV\n",
        "from sklearn.exceptions import FitFailedWarning\n",
        "from sklearn.metrics import r2_score\n",
        "\n",
        "# Import Data\n",
        "data = pd.read_csv('data.csv')\n",
        "X = data.iloc[:, :-5].values\n",
        "y = data.iloc[:, -user_input].values\n",
        "X_train, X_test, y_train, y_test = train_test_split(X, y, test_size=0.20, random_state=0)\n",
        "\n",
        "# Algorithm Selection\n",
        "models = [\n",
        "    ('Random Forest', RandomForestRegressor()),\n",
        "    ('SVR', SVR()),\n",
        "    ('Linear Regression', LinearRegression()),\n",
        "    ('Decision Tree', DecisionTreeRegressor())\n",
        "]\n",
        "\n",
        "# Cross-Validation and Model Evaluation\n",
        "results = {}\n",
        "for name, model in models:\n",
        "    scores = cross_val_score(model, X_train, y_train,cv=5, scoring='r2')\n",
        "    results[name] = scores\n",
        "# Final Selection\n",
        "final_scores = {}\n",
        "for name, model in models:\n",
        "    model.fit(X_train, y_train)\n",
        "    y_pred = model.predict(X_test)\n",
        "    r2 = r2_score(y_test, y_pred)\n",
        "    final_scores[name] = r2\n",
        "print(\"Perfomance Before HPO\")\n",
        "best_model = max(final_scores, key=final_scores.get)\n",
        "for name, r2 in final_scores.items():\n",
        "    print(f\"{name} R-squared: {r2}\")\n",
        "print(\"Best Model:\", best_model, final_scores[best_model])\n",
        "\n",
        "# Hyperparameter Optimization\n",
        "warnings.filterwarnings(\"ignore\", category=FitFailedWarning)\n",
        "svr_param_grid = {\n",
        "    'C': [0.1, 0.8, 2, 10],\n",
        "    'kernel': ['linear', 'rbf', 'poly', 'sigmoid']\n",
        "}\n",
        "\n",
        "svr_optimized = GridSearchCV(SVR(), param_grid=svr_param_grid, cv=5, scoring='r2')\n",
        "svr_optimized.fit(X_train, y_train)\n",
        "best_svr_model = svr_optimized.best_estimator_\n",
        "svr_pred = best_svr_model.predict(X_test)\n",
        "svr_r2 = r2_score(y_test, svr_pred)\n",
        "\n",
        "# Hyperparameter Optimization for Random Forest\n",
        "rf_param_grid = {\n",
        "    'n_estimators': [50, 150, 100, 200],\n",
        "    'max_depth': [None, 10, 18, 30],\n",
        "    'min_samples_split': [2, 5, 10],\n",
        "    'min_samples_leaf': [1, 2, 5]\n",
        "}\n",
        "\n",
        "rf_optimized = GridSearchCV(RandomForestRegressor(), param_grid=rf_param_grid, cv=5, scoring='r2')\n",
        "rf_optimized.fit(X_train, y_train)\n",
        "best_rf_model = rf_optimized.best_estimator_\n",
        "rf_pred = best_rf_model.predict(X_test)\n",
        "rf_r2 = r2_score(y_test, rf_pred)\n",
        "\n",
        "# Hyperparameter Optimization for Linear Regression\n",
        "lr_param_grid = {\n",
        "    'fit_intercept': [True, False]\n",
        "}\n",
        "\n",
        "lr_optimized = GridSearchCV(LinearRegression(), param_grid=lr_param_grid, cv=5, scoring='r2')\n",
        "lr_optimized.fit(X_train, y_train)\n",
        "best_lr_model = lr_optimized.best_estimator_\n",
        "lr_pred = best_lr_model.predict(X_test)\n",
        "lr_r2 = r2_score(y_test, lr_pred)\n",
        "\n",
        "# Hyperparameter Optimization for Decision Tree\n",
        "dt_param_grid = {\n",
        "    'max_depth': [None, 10, 20, 30, 50, 100],\n",
        "    'min_samples_split': [2, 5, 10, 20],\n",
        "    'min_samples_leaf': [1, 2, 4, 7]\n",
        "}\n",
        "\n",
        "dt_optimized = GridSearchCV(DecisionTreeRegressor(), param_grid=dt_param_grid, cv=5, scoring='r2')\n",
        "dt_optimized.fit(X_train, y_train)\n",
        "best_dt_model = dt_optimized.best_estimator_\n",
        "dt_pred = best_dt_model.predict(X_test)\n",
        "dt_r2 = r2_score(y_test, dt_pred)\n",
        "\n",
        "# Final Selection after HPO\n",
        "final_scores = {\n",
        "    'Random Forest': rf_r2,\n",
        "    'SVR': svr_r2,\n",
        "    'Linear Regression': lr_r2,\n",
        "    'Decision Tree': dt_r2\n",
        "}\n",
        "print(\"Perfomance After HPO\")\n",
        "best_model = max(final_scores, key=final_scores.get)\n",
        "\n",
        "for name, r2 in final_scores.items():\n",
        "    print(f\"{name} R-squared: {r2}\")\n",
        "\n",
        "#print(\"Selected Algorithms:\", models)\n",
        "print(\"Best Model:\", best_model, final_scores[best_model])\n"
      ]
    }
  ]
}